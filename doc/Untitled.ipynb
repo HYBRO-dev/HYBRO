{
 "cells": [
  {
   "cell_type": "markdown",
   "metadata": {},
   "source": [
    "# Code structure\n",
    "\n",
    "This notebook describes the general code structure of `pyHYBRO`.\n",
    "\n",
    "## 1.) The Problem\n",
    "\n",
    "The problem contains all objective functions (+ potentially grad/hess) + optimization bounds"
   ]
  },
  {
   "cell_type": "code",
   "execution_count": 8,
   "metadata": {},
   "outputs": [],
   "source": [
    "import pyhybro\n",
    "import numpy as np\n",
    "\n",
    "fun = lambda x : np.sum(x**2)\n",
    "grad = lambda x: 2*x\n",
    "hess = lambda x: 2* np.identity(x.size)\n",
    "\n",
    "lb = np.array([-2, -2])\n",
    "ub = np.array([2, 2])\n",
    "\n",
    "problem = pyhybro.Problem(fun=fun, \n",
    "                          grad=grad, \n",
    "                          hess=hess, \n",
    "                          lb=lb, \n",
    "                          ub=ub)"
   ]
  },
  {
   "cell_type": "markdown",
   "metadata": {},
   "source": [
    "## 2.) The OptimizationManager \n",
    "\n",
    "The `OptimizationManager` basically does all the scheduling between the different optimizers (I mean, we do not only need to cycle between local&global optimizers. It might be also interesting to look which  optimizers perform well in the beginning/the end of a local optimization run and change between them etc. ... So I wanted to keep that flexible :) ).\n",
    "\n",
    "The `OptimizationManagerBase` defines three functions:\n",
    "\n",
    "* `minimize(...)` Takes a `problem` + `reference_set` and minimizes. Returns a `OptimizationResult`\n",
    "* `get_next_optimizer` returns the next optimizer, that shall be used\n",
    "* `check_termination` ... Checks termination of optimization.\n",
    "\n",
    "\n",
    "## 3.) OptimizationResult\n",
    "\n",
    "The `OptimizationResult` shall save the current `ReferenceSet` and meta-information as number of function/gradient/hessian evaluation. Potentially also more. The `OptimizationResult` is created inside of `OptimizationManager.minimize` function and handed to the individual Optimizers, which update the `OptimizationResult`\n",
    "\n",
    "## 4.) ReferenceSet\n",
    "\n",
    "The `ReferenceSet` is a list of `ReferenceSetMembers`. I implemented it in a way, that it allows for additional functionality, but individual members can be accessed via `ReferenceSet[idx]`. \n",
    "\n",
    "## 5.) Optimizer\n",
    "\n",
    "Inherit from `OptimizerBase`. Options are given as a dict.  `Optimizer.minimize` takes a `Problem` and an `OptimizationResult` and returns an updated `OptimizationResult`.\n",
    "\n",
    "# How to implement ESS:\n",
    "\n",
    "We would need to implement the `OptimizationManager` scheme, which to me looks like only switching between a local and a global optimizer + implementing a stopping criterion. Further we need to implement the global Optimizer + interface a local one. Potentially via Scipy/Fides/pyPESTO.\n",
    "\n",
    "## Syntax goal:\n",
    "\n",
    "```python\n",
    "import pyhybro\n",
    "\n",
    "reference_set = ... # We need methods to easily sample initial values from a problem instance...\n",
    "\n",
    "local_optimizer = pyhybro.ScipyOptimizer(options={maxiter=200})\n",
    "global_optimizer = pyhybro.EssGlobal()\n",
    "\n",
    "optimization_manager = pyhybro.EssManager(local_optimizer = local_optimizer, \n",
    "                                          global_optimizer = global_optimizer, \n",
    "                                          options = {max_switches = 50})\n",
    "\n",
    "result = optimization_manager.minimize(problem, \n",
    "                                       reference_set)\n",
    "\n",
    "```"
   ]
  },
  {
   "cell_type": "code",
   "execution_count": null,
   "metadata": {},
   "outputs": [],
   "source": []
  }
 ],
 "metadata": {
  "kernelspec": {
   "display_name": "Python 3",
   "language": "python",
   "name": "python3"
  },
  "language_info": {
   "codemirror_mode": {
    "name": "ipython",
    "version": 3
   },
   "file_extension": ".py",
   "mimetype": "text/x-python",
   "name": "python",
   "nbconvert_exporter": "python",
   "pygments_lexer": "ipython3",
   "version": "3.7.1"
  }
 },
 "nbformat": 4,
 "nbformat_minor": 2
}
